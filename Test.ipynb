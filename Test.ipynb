{
 "cells": [
  {
   "cell_type": "code",
   "execution_count": 8,
   "id": "33801424",
   "metadata": {},
   "outputs": [
    {
     "ename": "KeyboardInterrupt",
     "evalue": "",
     "output_type": "error",
     "traceback": [
      "\u001b[1;31m---------------------------------------------------------------------------\u001b[0m",
      "\u001b[1;31mKeyboardInterrupt\u001b[0m                         Traceback (most recent call last)",
      "Cell \u001b[1;32mIn [8], line 39\u001b[0m\n\u001b[0;32m     36\u001b[0m image_number \u001b[38;5;241m+\u001b[39m\u001b[38;5;241m=\u001b[39m \u001b[38;5;241m1\u001b[39m\n\u001b[0;32m     38\u001b[0m \u001b[38;5;66;03m# Wait for the next interval\u001b[39;00m\n\u001b[1;32m---> 39\u001b[0m \u001b[43mtime\u001b[49m\u001b[38;5;241;43m.\u001b[39;49m\u001b[43msleep\u001b[49m\u001b[43m(\u001b[49m\u001b[43minterval\u001b[49m\u001b[43m)\u001b[49m\n",
      "\u001b[1;31mKeyboardInterrupt\u001b[0m: "
     ]
    }
   ],
   "source": [
    "# Import necessary libraries\n",
    "import subprocess\n",
    "import time\n",
    "\n",
    "# Set the video URL, output file names, and maximum runtime\n",
    "url = 'https://www.youtube.com/watch?v=ydYDqZQpim8'\n",
    "output_file = 'video.mp4'\n",
    "image_output_file = 'image%d.jpg'\n",
    "max_runtime = '00:01:00'\n",
    "parts = max_runtime.split(':')\n",
    "max_runtime_seconds = int(parts[0]) * 3600 + int(parts[1]) * 60 + int(parts[2])\n",
    "\n",
    "# Construct the command to download the video\n",
    "command = ['youtube-dl', '-o', output_file, '--format', 'mp4', url,\n",
    "           '|', 'ffmpeg', '-i', '-', '-t', max_runtime, output_file]\n",
    "\n",
    "# Start the subprocess to download the video\n",
    "process = subprocess.Popen(command, stdout=subprocess.PIPE)\n",
    "\n",
    "# Set the interval for capturing images (in seconds)\n",
    "interval = 10\n",
    "\n",
    "# Set the starting time and image number\n",
    "start_time = time.time()\n",
    "image_number = 1\n",
    "\n",
    "# Loop until the runtime has expired\n",
    "while time.time() - start_time < max_runtime_seconds:\n",
    "\n",
    "    # Capture an image from the video\n",
    "    command = ['ffmpeg', '-i', output_file, '-ss',\n",
    "               str(time.time() - start_time), image_output_file % image_number]\n",
    "    subprocess.call(command)\n",
    "\n",
    "    # Increment the image number\n",
    "    image_number += 1\n",
    "\n",
    "    # Wait for the next interval\n",
    "    time.sleep(interval)\n",
    "    \n",
    "\n"
   ]
  },
  {
   "cell_type": "code",
   "execution_count": 5,
   "id": "d9901d7b-19e9-461e-abca-f6d529aac3b7",
   "metadata": {},
   "outputs": [
    {
     "name": "stdout",
     "output_type": "stream",
     "text": [
      "1670642706.6756754\n"
     ]
    }
   ],
   "source": [
    "print(start_time)"
   ]
  },
  {
   "cell_type": "code",
   "execution_count": null,
   "id": "e56d5953-153b-43c2-8075-af5ea6105370",
   "metadata": {},
   "outputs": [],
   "source": []
  }
 ],
 "metadata": {
  "kernelspec": {
   "display_name": "Python [conda env:dsci_510_final] *",
   "language": "python",
   "name": "conda-env-dsci_510_final-py"
  },
  "language_info": {
   "codemirror_mode": {
    "name": "ipython",
    "version": 3
   },
   "file_extension": ".py",
   "mimetype": "text/x-python",
   "name": "python",
   "nbconvert_exporter": "python",
   "pygments_lexer": "ipython3",
   "version": "3.10.8"
  }
 },
 "nbformat": 4,
 "nbformat_minor": 5
}

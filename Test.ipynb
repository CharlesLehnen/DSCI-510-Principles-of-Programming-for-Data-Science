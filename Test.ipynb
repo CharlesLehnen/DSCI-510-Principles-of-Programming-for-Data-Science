{
 "cells": [
  {
   "cell_type": "code",
   "execution_count": null,
   "id": "33801424",
   "metadata": {},
   "outputs": [],
   "source": [
    "import os\n",
    "import time\n",
    "import subprocess\n",
    "\n",
    "# Set URL of YouTube live video\n",
    "url = \"https://www.youtube.com/watch?v=ydYDqZQpim8\"\n",
    "first, second = url.split('=')\n",
    "\n",
    "# Use youtube-dl to extract the streaming URL of the video\n",
    "os.system(f\"youtube-dl -g -f worst {url} > stream-url\")\n",
    "\n",
    "# Read the contents of the stream-url file using subprocess\n",
    "with open(\"stream-url\", \"r\") as f:\n",
    "    stream_url_contents = f.read()\n",
    "\n",
    "# Set the time interval (in seconds) for image extraction\n",
    "interval = 10\n",
    "\n",
    "# Set the name of the folder for images\n",
    "folder_name = \"images\" + \"_\" + second\n",
    "\n",
    "# Create new folder if does not exist\n",
    "if not os.path.exists(folder_name):\n",
    "    os.makedirs(folder_name)\n",
    "\n",
    "while True:\n",
    "    # Generate timestamp for image naming\n",
    "    timestamp = time.strftime(\"%Y%m%d_%H%M%S\", time.gmtime())\n",
    "\n",
    "    # Use ffmpeg to try to extract images at set intervals\n",
    "    os.system(f\"ffmpeg -i {stream_url_contents} -vcodec copy {folder_name}/img_{timestamp}.jpeg\")\n",
    "\n",
    "    # Sleep between extractions\n",
    "    time.sleep(interval)\n"
   ]
  },
  {
   "cell_type": "code",
   "execution_count": null,
   "id": "d9901d7b-19e9-461e-abca-f6d529aac3b7",
   "metadata": {},
   "outputs": [],
   "source": []
  }
 ],
 "metadata": {
  "kernelspec": {
   "display_name": "Python 3.10 (XPython)",
   "language": "python",
   "name": "xpython"
  },
  "language_info": {
   "file_extension": ".py",
   "mimetype": "text/x-python",
   "name": "python",
   "version": "3.10.8"
  }
 },
 "nbformat": 4,
 "nbformat_minor": 5
}

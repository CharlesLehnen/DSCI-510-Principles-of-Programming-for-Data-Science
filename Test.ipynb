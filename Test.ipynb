{
 "cells": [
  {
   "cell_type": "code",
   "execution_count": 22,
   "id": "33801424",
   "metadata": {},
   "outputs": [
    {
     "name": "stdout",
     "output_type": "stream",
     "text": [
      "[1, 2, 3, 4]\n",
      "[]\n"
     ]
    }
   ],
   "source": [
    "import multiprocessing\n",
    "\n",
    "test = []\n",
    "\n",
    "def capture_images(number,*video_ids) : \n",
    "    # print(number)\n",
    "    for video_id in video_ids :\n",
    "        test.append(video_id)\n",
    "    \n",
    "video_ids = [1,2,3,4]\n",
    "number = 5\n",
    "capture_process = multiprocessing.Process(target=capture_images, args=(number, *video_ids))\n",
    "\n",
    "capture_process.start()\n",
    "\n",
    "print(video_ids)\n",
    "print(test) # i guess it doesn't change because multiprocesses have a separate memory"
   ]
  },
  {
   "cell_type": "code",
   "execution_count": 5,
   "id": "d9901d7b-19e9-461e-abca-f6d529aac3b7",
   "metadata": {},
   "outputs": [
    {
     "name": "stdout",
     "output_type": "stream",
     "text": [
      "1670642706.6756754\n"
     ]
    }
   ],
   "source": [
    "print(start_time)"
   ]
  },
  {
   "cell_type": "code",
   "execution_count": null,
   "id": "e56d5953-153b-43c2-8075-af5ea6105370",
   "metadata": {},
   "outputs": [],
   "source": []
  }
 ],
 "metadata": {
  "kernelspec": {
   "display_name": "Python [conda env:dsci_510_final] *",
   "language": "python",
   "name": "conda-env-dsci_510_final-py"
  },
  "language_info": {
   "codemirror_mode": {
    "name": "ipython",
    "version": 3
   },
   "file_extension": ".py",
   "mimetype": "text/x-python",
   "name": "python",
   "nbconvert_exporter": "python",
   "pygments_lexer": "ipython3",
   "version": "3.10.8"
  }
 },
 "nbformat": 4,
 "nbformat_minor": 5
}

{
 "cells": [
  {
   "cell_type": "code",
   "execution_count": 8,
   "id": "33801424",
   "metadata": {},
   "outputs": [
    {
     "ename": "KeyboardInterrupt",
     "evalue": "",
     "output_type": "error",
     "traceback": [
      "\u001b[1;31m---------------------------------------------------------------------------\u001b[0m",
      "\u001b[1;31mKeyboardInterrupt\u001b[0m                         Traceback (most recent call last)",
      "Cell \u001b[1;32mIn [8], line 39\u001b[0m\n\u001b[0;32m     36\u001b[0m image_number \u001b[38;5;241m+\u001b[39m\u001b[38;5;241m=\u001b[39m \u001b[38;5;241m1\u001b[39m\n\u001b[0;32m     38\u001b[0m \u001b[38;5;66;03m# Wait for the next interval\u001b[39;00m\n\u001b[1;32m---> 39\u001b[0m \u001b[43mtime\u001b[49m\u001b[38;5;241;43m.\u001b[39;49m\u001b[43msleep\u001b[49m\u001b[43m(\u001b[49m\u001b[43minterval\u001b[49m\u001b[43m)\u001b[49m\n",
      "\u001b[1;31mKeyboardInterrupt\u001b[0m: "
     ]
    }
   ],
   "source": [
    "import time\n",
    "import subprocess\n",
    "import os\n",
    "from urllib.parse import urlparse\n",
    "\n",
    "def download_video(url):\n",
    "    # Set up folder and file structure\n",
    "    video_folder = os.path.join(\"data\", \"videos\")\n",
    "    if not os.path.exists(video_folder):\n",
    "        os.mkdir(video_folder)\n",
    "    parsed_url = urlparse(url)\n",
    "    video_id = parsed_url.query.split(\"&\")[0].split(\"=\")[1]\n",
    "\n",
    "    # Download video\n",
    "    video_output = os.path.join(os.getcwd(), \"data\", \"videos\")\n",
    "    command = [\n",
    "        \"youtube-dl\",\n",
    "        \"--output\", f\"{video_output}/video_%(id)s.%(ext)s\",\n",
    "        \"--no-part\",\n",
    "        url\n",
    "    ]\n",
    "\n",
    "    # Start the youtube_dl_process\n",
    "    youtube_dl_process = subprocess.Popen(command)\n",
    "\n",
    "    # Wait for the process to finish or for the KeyboardInterrupt exception to be raised\n",
    "    try:\n",
    "        youtube_dl_process.wait(timeout=60)  # Wait for up to 60 seconds\n",
    "    except KeyboardInterrupt:\n",
    "        youtube_dl_process.terminate()\n",
    "\n",
    "# Set the URL of the YouTube live video and run\n",
    "url = \"https://www.youtube.com/watch?v=ydYDqZQpim8\"\n",
    "download_video(url)\n"
   ]
  },
  {
   "cell_type": "code",
   "execution_count": 5,
   "id": "d9901d7b-19e9-461e-abca-f6d529aac3b7",
   "metadata": {},
   "outputs": [
    {
     "name": "stdout",
     "output_type": "stream",
     "text": [
      "1670642706.6756754\n"
     ]
    }
   ],
   "source": [
    "print(start_time)"
   ]
  },
  {
   "cell_type": "code",
   "execution_count": null,
   "id": "e56d5953-153b-43c2-8075-af5ea6105370",
   "metadata": {},
   "outputs": [],
   "source": []
  }
 ],
 "metadata": {
  "kernelspec": {
   "display_name": "Python [conda env:dsci_510_final] *",
   "language": "python",
   "name": "conda-env-dsci_510_final-py"
  },
  "language_info": {
   "codemirror_mode": {
    "name": "ipython",
    "version": 3
   },
   "file_extension": ".py",
   "mimetype": "text/x-python",
   "name": "python",
   "nbconvert_exporter": "python",
   "pygments_lexer": "ipython3",
   "version": "3.10.8"
  }
 },
 "nbformat": 4,
 "nbformat_minor": 5
}

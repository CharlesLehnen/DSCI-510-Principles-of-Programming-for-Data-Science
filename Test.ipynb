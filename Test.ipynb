{
 "cells": [
  {
   "cell_type": "code",
   "execution_count": 25,
   "id": "33801424",
   "metadata": {},
   "outputs": [
    {
     "ename": "SyntaxError",
     "evalue": "invalid syntax (3844294232.py, line 1)",
     "output_type": "error",
     "traceback": [
      "\u001b[1;36m  Cell \u001b[1;32mIn [25], line 1\u001b[1;36m\u001b[0m\n\u001b[1;33m    with this file structure:\u001b[0m\n\u001b[1;37m              ^\u001b[0m\n\u001b[1;31mSyntaxError\u001b[0m\u001b[1;31m:\u001b[0m invalid syntax\n"
     ]
    }
   ],
   "source": [
    "with this file structure:\n",
    "    \n",
    "IMAGE_FOLDER = \"data/images/archived\"\n",
    "\n",
    "# Create empthy lists for training, validation, and test image sets\n",
    "training_set =  [\"data/images/archived/5.jpg\",\"data/images/archived/6.jpg\"]\n",
    "validation_set =  [\"data/images/archived/3.jpg\",\"data/images/archived/4.jpg\"]\n",
    "test_set = [\"data/images/archived/1.jpg\",\"data/images/archived/2.jpg\"]\n",
    "\n",
    "\n",
    "Can you apply a strategy like this?\n",
    "\n",
    "# Load the model\n",
    "model = torchvision.models.detection.fasterrcnn_resnet50_fpn_v2()\n",
    "\n",
    "# Loop over the images in your dataset\n",
    "for image in dataset:\n",
    "    # Use the model to detect objects in the image and draw bounding boxes around them\n",
    "    outputs = model(image)\n",
    "    for output in outputs:\n",
    "        bbox = output['boxes']  # Coordinates of the bounding box\n",
    "        # Use the bounding box coordinates to crop the image\n",
    "        cropped_image = image[:, bbox[0]:bbox[2], bbox[1]:bbox[3]]\n",
    "        # Save the cropped image to a folder\n",
    "        torchvision.utils.save_image(cropped_image, os.path.join(save_folder, f'{i}.jpg'))\n",
    "        i += 1"
   ]
  },
  {
   "cell_type": "code",
   "execution_count": 26,
   "id": "d9901d7b-19e9-461e-abca-f6d529aac3b7",
   "metadata": {},
   "outputs": [
    {
     "ename": "NameError",
     "evalue": "name 'start_time' is not defined",
     "output_type": "error",
     "traceback": [
      "\u001b[1;31m---------------------------------------------------------------------------\u001b[0m",
      "\u001b[1;31mNameError\u001b[0m                                 Traceback (most recent call last)",
      "Cell \u001b[1;32mIn [26], line 1\u001b[0m\n\u001b[1;32m----> 1\u001b[0m \u001b[38;5;28mprint\u001b[39m(\u001b[43mstart_time\u001b[49m)\n",
      "\u001b[1;31mNameError\u001b[0m: name 'start_time' is not defined"
     ]
    }
   ],
   "source": [
    "print(start_time)"
   ]
  },
  {
   "cell_type": "code",
   "execution_count": null,
   "id": "e56d5953-153b-43c2-8075-af5ea6105370",
   "metadata": {},
   "outputs": [],
   "source": []
  }
 ],
 "metadata": {
  "kernelspec": {
   "display_name": "Python [conda env:dsci_510_final] *",
   "language": "python",
   "name": "conda-env-dsci_510_final-py"
  },
  "language_info": {
   "codemirror_mode": {
    "name": "ipython",
    "version": 3
   },
   "file_extension": ".py",
   "mimetype": "text/x-python",
   "name": "python",
   "nbconvert_exporter": "python",
   "pygments_lexer": "ipython3",
   "version": "3.10.8"
  }
 },
 "nbformat": 4,
 "nbformat_minor": 5
}

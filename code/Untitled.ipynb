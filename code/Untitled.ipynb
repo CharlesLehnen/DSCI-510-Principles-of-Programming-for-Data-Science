{
 "cells": [
  {
   "cell_type": "code",
   "execution_count": 3,
   "id": "a573d012-967b-4ae4-91e7-f66eb54f194e",
   "metadata": {},
   "outputs": [
    {
     "name": "stdout",
     "output_type": "stream",
     "text": [
      "['.ipynb_checkpoints', 'image_ydYDqZQpim8_2022-12-12_23-38-26_48_0.jpg', 'New folder']\n",
      "{'ydYDqZQpim8_2022-12-12_23-38-26': ['data/images/cropped\\\\image_ydYDqZQpim8_2022-12-12_23-38-26_48_0.jpg']}\n"
     ]
    },
    {
     "name": "stderr",
     "output_type": "stream",
     "text": [
      "C:\\Users\\lehnen\\AppData\\Local\\Temp\\ipykernel_14652\\1307283419.py:33: FutureWarning: The frame.append method is deprecated and will be removed from pandas in a future version. Use pandas.concat instead.\n",
      "  df = df.append({'video_id': video_id, 'timestamp': timestamp, 'count': count}, ignore_index=True)\n"
     ]
    },
    {
     "data": {
      "text/html": [
       "<div>\n",
       "<style scoped>\n",
       "    .dataframe tbody tr th:only-of-type {\n",
       "        vertical-align: middle;\n",
       "    }\n",
       "\n",
       "    .dataframe tbody tr th {\n",
       "        vertical-align: top;\n",
       "    }\n",
       "\n",
       "    .dataframe thead th {\n",
       "        text-align: right;\n",
       "    }\n",
       "</style>\n",
       "<table border=\"1\" class=\"dataframe\">\n",
       "  <thead>\n",
       "    <tr style=\"text-align: right;\">\n",
       "      <th></th>\n",
       "      <th>video_id</th>\n",
       "      <th>timestamp</th>\n",
       "      <th>count</th>\n",
       "    </tr>\n",
       "  </thead>\n",
       "  <tbody>\n",
       "    <tr>\n",
       "      <th>0</th>\n",
       "      <td>ydYDqZQpim8</td>\n",
       "      <td>2022-12-12_23-38-26</td>\n",
       "      <td>1</td>\n",
       "    </tr>\n",
       "  </tbody>\n",
       "</table>\n",
       "</div>"
      ],
      "text/plain": [
       "      video_id            timestamp count\n",
       "0  ydYDqZQpim8  2022-12-12_23-38-26     1"
      ]
     },
     "execution_count": 3,
     "metadata": {},
     "output_type": "execute_result"
    }
   ],
   "source": [
    "import os\n",
    "import pandas as pd\n",
    "\n",
    "# Create empty dict\n",
    "file_dict = {}\n",
    "\n",
    "# Get list of files in directory\n",
    "files = os.listdir('data/images/cropped')\n",
    "\n",
    "# Loop through the files\n",
    "for file in files:\n",
    "    # Split the filenames\n",
    "    parts = file.split('_')\n",
    "    if parts[0] == 'image':\n",
    "        video_id = parts[1]\n",
    "        timestamp = parts[2] + \"_\" + parts[3]\n",
    "        # Create a key for the dictionary using the video_id and timestamp\n",
    "        key = f\"{video_id}_{timestamp}\"\n",
    "        # If the key doesn't exist in the dictionary, create a new list for it\n",
    "        if key not in file_dict:\n",
    "            file_dict[key] = []\n",
    "        # Append the file path to the list of file paths for this key\n",
    "        file_dict[key].append(os.path.join('data/images/cropped', file))\n",
    "\n",
    "# Print results\n",
    "print(files)\n",
    "print(file_dict)\n",
    "\n",
    "# Create pandas dataframe from the dictionary\n",
    "df = pd.DataFrame(columns=['video_id', 'timestamp', 'count'])\n",
    "for key, value in file_dict.items():\n",
    "    count = len(value)\n",
    "    df = pd.concat([df, {'video_id': video_id, 'timestamp': timestamp, 'count': count}], ignore_index=True)\n",
    "\n",
    "\n",
    "# Print the dataframe\n",
    "df\n"
   ]
  },
  {
   "cell_type": "code",
   "execution_count": null,
   "id": "d138193f-3040-42d5-bd56-338a1db7758c",
   "metadata": {},
   "outputs": [],
   "source": []
  }
 ],
 "metadata": {
  "kernelspec": {
   "display_name": "Python [conda env:dsci_510_final] *",
   "language": "python",
   "name": "conda-env-dsci_510_final-py"
  },
  "language_info": {
   "codemirror_mode": {
    "name": "ipython",
    "version": 3
   },
   "file_extension": ".py",
   "mimetype": "text/x-python",
   "name": "python",
   "nbconvert_exporter": "python",
   "pygments_lexer": "ipython3",
   "version": "3.10.8"
  }
 },
 "nbformat": 4,
 "nbformat_minor": 5
}

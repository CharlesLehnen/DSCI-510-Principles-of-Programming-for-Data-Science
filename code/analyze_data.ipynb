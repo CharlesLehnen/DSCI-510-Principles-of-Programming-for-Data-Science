{
 "cells": [
  {
   "cell_type": "code",
   "execution_count": 53,
   "id": "a573d012-967b-4ae4-91e7-f66eb54f194e",
   "metadata": {},
   "outputs": [
    {
     "name": "stdout",
     "output_type": "stream",
     "text": [
      "video_id             object\n",
      "timestamp    datetime64[ns]\n",
      "count                 int64\n",
      "dtype: object\n"
     ]
    },
    {
     "name": "stderr",
     "output_type": "stream",
     "text": [
      "C:\\Users\\lehnen\\AppData\\Local\\Temp\\ipykernel_14652\\444222072.py:69: UserWarning: Attempting to set identical low and high ylims makes transformation singular; automatically expanding.\n",
      "  plt.ylim(ymin, ymax)\n"
     ]
    },
    {
     "data": {
      "text/plain": [
       "(919.6, 1016.4)"
      ]
     },
     "execution_count": 53,
     "metadata": {},
     "output_type": "execute_result"
    },
    {
     "data": {
      "image/png": "[encoded data removed]",
      "text/plain": [
       "<Figure size 640x480 with 1 Axes>"
      ]
     },
     "metadata": {},
     "output_type": "display_data"
    }
   ],
   "source": [
    "import os\n",
    "import pandas as pd\n",
    "import seaborn as sns\n",
    "import matplotlib.pyplot as plt\n",
    "from datetime import timedelta\n",
    "\n",
    "# Create empty dict\n",
    "file_dict = {}\n",
    "\n",
    "# Get list of files in directory\n",
    "files = os.listdir('data/images/cropped')\n",
    "\n",
    "# Loop through the files\n",
    "for file in files:\n",
    "    # Split the filenames\n",
    "    parts = file.split('_')\n",
    "    if parts[0] == 'image':\n",
    "        video_id = parts[1]\n",
    "        timestamp = parts[2] + \"_\" + parts[3]\n",
    "        # Convert the timestamp string to a datetime object\n",
    "        timestamp = pd.to_datetime(timestamp, format='%Y-%m-%d_%H-%M-%S')\n",
    "        # Create a key for the dictionary using the video_id and timestamp\n",
    "        key = f\"{video_id}_{timestamp}\"\n",
    "        # If the key doesn't exist in the dictionary, create a new list for it\n",
    "        if key not in file_dict:\n",
    "            file_dict[key] = []\n",
    "        # Append the file path to the list of file paths for this key\n",
    "        file_dict[key].append(os.path.join('data/images/cropped', file))\n",
    "\n",
    "# Print results\n",
    "# print(files)\n",
    "# print(file_dict)\n",
    "\n",
    "# Create pandas dataframe from the dictionary\n",
    "df = pd.DataFrame(columns=['video_id', 'timestamp', 'count'])\n",
    "for key, value in file_dict.items():\n",
    "    # Get the count of file paths for the current key\n",
    "    count = len(value)\n",
    "    \n",
    "    # Create a new DataFrame for the current key\n",
    "    new_df = pd.DataFrame({'video_id': [video_id], 'timestamp': [timestamp], 'count': [count]})\n",
    "    \n",
    "    # Append the new DataFrame to the existing DataFrame\n",
    "    df = pd.concat([df, new_df], ignore_index=True)\n",
    "\n",
    "df['count'] = pd.to_numeric(df['count'], errors='coerce')\n",
    "    \n",
    "print(df.dtypes)\n",
    "df\n",
    "\n",
    "df = df.groupby(['video_id', 'timestamp'])['count'].sum().reset_index()\n",
    "\n",
    "# Sort the dataframe by the timestamp column\n",
    "df = df.sort_values('timestamp')\n",
    "\n",
    "# Use seaborn to create a lineplot\n",
    "sns.lineplot(x='timestamp', y='count', data=df)\n",
    "\n",
    "# Get the minimum and maximum values of the 'timestamp' column\n",
    "xmin, xmax = df['timestamp'].min(), df['timestamp'].max()\n",
    "\n",
    "# Set the x-axis limits to cover a few days\n",
    "plt.xlim(xmin, xmin + timedelta(days=2))\n",
    "\n",
    "# Get the minimum and maximum values of the 'count' column\n",
    "ymin, ymax = df['count'].min(), df['count'].max()\n",
    "\n",
    "# Set the y-axis limits to cover the range of values in the 'count' column\n",
    "plt.ylim(ymin, ymax)"
   ]
  },
  {
   "cell_type": "code",
   "execution_count": 54,
   "id": "d138193f-3040-42d5-bd56-338a1db7758c",
   "metadata": {},
   "outputs": [
    {
     "data": {
      "text/html": [
       "<div>\n",
       "<style scoped>\n",
       "    .dataframe tbody tr th:only-of-type {\n",
       "        vertical-align: middle;\n",
       "    }\n",
       "\n",
       "    .dataframe tbody tr th {\n",
       "        vertical-align: top;\n",
       "    }\n",
       "\n",
       "    .dataframe thead th {\n",
       "        text-align: right;\n",
       "    }\n",
       "</style>\n",
       "<table border=\"1\" class=\"dataframe\">\n",
       "  <thead>\n",
       "    <tr style=\"text-align: right;\">\n",
       "      <th></th>\n",
       "      <th>video_id</th>\n",
       "      <th>timestamp</th>\n",
       "      <th>count</th>\n",
       "    </tr>\n",
       "  </thead>\n",
       "  <tbody>\n",
       "    <tr>\n",
       "      <th>0</th>\n",
       "      <td>ydYDqZQpim8</td>\n",
       "      <td>2022-12-13 02:18:41</td>\n",
       "      <td>968</td>\n",
       "    </tr>\n",
       "  </tbody>\n",
       "</table>\n",
       "</div>"
      ],
      "text/plain": [
       "      video_id           timestamp  count\n",
       "0  ydYDqZQpim8 2022-12-13 02:18:41    968"
      ]
     },
     "execution_count": 54,
     "metadata": {},
     "output_type": "execute_result"
    }
   ],
   "source": [
    "df"
   ]
  },
  {
   "cell_type": "code",
   "execution_count": 45,
   "id": "50a4492d-a1a1-4752-8ad3-ac036454902c",
   "metadata": {},
   "outputs": [
    {
     "data": {
      "image/png": "[encoded data removed]",
      "text/plain": [
       "<Figure size 300x300 with 1 Axes>"
      ]
     },
     "metadata": {},
     "output_type": "display_data"
    }
   ],
   "source": [
    "# Create a new column with the minute and second values\n",
    "df['time'] = df['timestamp'].apply(lambda x: x.strftime('%M:%S'))\n",
    "\n",
    "# Create a FacetGrid with a subplot for each minute and second value\n",
    "g = sns.FacetGrid(df, col='time')\n"
   ]
  },
  {
   "cell_type": "code",
   "execution_count": null,
   "id": "b6f0e2ef-2131-4760-b181-fc0a9cf22f9b",
   "metadata": {},
   "outputs": [],
   "source": []
  }
 ],
 "metadata": {
  "kernelspec": {
   "display_name": "Python [conda env:dsci_510_final] *",
   "language": "python",
   "name": "conda-env-dsci_510_final-py"
  },
  "language_info": {
   "codemirror_mode": {
    "name": "ipython",
    "version": 3
   },
   "file_extension": ".py",
   "mimetype": "text/x-python",
   "name": "python",
   "nbconvert_exporter": "python",
   "pygments_lexer": "ipython3",
   "version": "3.10.8"
  }
 },
 "nbformat": 4,
 "nbformat_minor": 5
}
